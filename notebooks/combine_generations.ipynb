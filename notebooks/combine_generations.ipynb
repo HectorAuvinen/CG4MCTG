{
 "cells": [
  {
   "cell_type": "code",
   "execution_count": 23,
   "metadata": {},
   "outputs": [],
   "source": [
    "import json\n",
    "import os\n",
    "path = 'C:/files_from_ssh/thesis/first_reproductions/yelp/few_shot'"
   ]
  },
  {
   "cell_type": "code",
   "execution_count": 24,
   "metadata": {},
   "outputs": [
    {
     "data": {
      "text/plain": [
       "['C:/files_from_ssh/thesis/first_reproductions/yelp/few_shot\\\\dcg_sample_meta-Yelp-Few-Shot-0-lambda=0.01-2-bs=8-epoch=8_seen.jsonl',\n",
       " 'C:/files_from_ssh/thesis/first_reproductions/yelp/few_shot\\\\dcg_sample_meta-Yelp-Few-Shot-0-lambda=0.01-2-bs=8-epoch=8_unseen.jsonl',\n",
       " 'C:/files_from_ssh/thesis/first_reproductions/yelp/few_shot\\\\dcg_sample_meta-Yelp-Few-Shot-1-lambda=0.01-2-bs=8-epoch=8_seen.jsonl',\n",
       " 'C:/files_from_ssh/thesis/first_reproductions/yelp/few_shot\\\\dcg_sample_meta-Yelp-Few-Shot-1-lambda=0.01-2-bs=8-epoch=8_unseen.jsonl',\n",
       " 'C:/files_from_ssh/thesis/first_reproductions/yelp/few_shot\\\\dcg_sample_meta-Yelp-Few-Shot-2-lambda=0.01-2-bs=8-epoch=8_seen.jsonl',\n",
       " 'C:/files_from_ssh/thesis/first_reproductions/yelp/few_shot\\\\dcg_sample_meta-Yelp-Few-Shot-2-lambda=0.01-2-bs=8-epoch=8_unseen.jsonl',\n",
       " 'C:/files_from_ssh/thesis/first_reproductions/yelp/few_shot\\\\dcg_sample_meta-Yelp-Few-Shot-3-lambda=0.01-2-bs=8-epoch=8_seen.jsonl',\n",
       " 'C:/files_from_ssh/thesis/first_reproductions/yelp/few_shot\\\\dcg_sample_meta-Yelp-Few-Shot-3-lambda=0.01-2-bs=8-epoch=8_unseen.jsonl',\n",
       " 'C:/files_from_ssh/thesis/first_reproductions/yelp/few_shot\\\\dcg_sample_meta-Yelp-Few-Shot-4-lambda=0.01-2-bs=8-epoch=8_seen.jsonl',\n",
       " 'C:/files_from_ssh/thesis/first_reproductions/yelp/few_shot\\\\dcg_sample_meta-Yelp-Few-Shot-4-lambda=0.01-2-bs=8-epoch=8_unseen.jsonl',\n",
       " 'C:/files_from_ssh/thesis/first_reproductions/yelp/few_shot\\\\dcg_sample_meta-Yelp-Few-Shot-5-lambda=0.01-2-bs=8-epoch=8_seen.jsonl',\n",
       " 'C:/files_from_ssh/thesis/first_reproductions/yelp/few_shot\\\\dcg_sample_meta-Yelp-Few-Shot-5-lambda=0.01-2-bs=8-epoch=8_unseen.jsonl',\n",
       " 'C:/files_from_ssh/thesis/first_reproductions/yelp/few_shot\\\\dcg_sample_meta-Yelp-Few-Shot-6-lambda=0.01-2-bs=8-epoch=8_seen.jsonl',\n",
       " 'C:/files_from_ssh/thesis/first_reproductions/yelp/few_shot\\\\dcg_sample_meta-Yelp-Few-Shot-6-lambda=0.01-2-bs=8-epoch=8_unseen.jsonl',\n",
       " 'C:/files_from_ssh/thesis/first_reproductions/yelp/few_shot\\\\dcg_sample_meta-Yelp-Few-Shot-7-lambda=0.01-2-bs=8-epoch=8_seen.jsonl',\n",
       " 'C:/files_from_ssh/thesis/first_reproductions/yelp/few_shot\\\\dcg_sample_meta-Yelp-Few-Shot-7-lambda=0.01-2-bs=8-epoch=8_unseen.jsonl']"
      ]
     },
     "execution_count": 24,
     "metadata": {},
     "output_type": "execute_result"
    }
   ],
   "source": [
    "# list all files in a dir documents\n",
    "def listdir_fullpath(directory):\n",
    "    return [os.path.join(directory, file) for file in os.listdir(directory)]\n",
    "files = listdir_fullpath(path)\n",
    "files"
   ]
  },
  {
   "cell_type": "code",
   "execution_count": 25,
   "metadata": {},
   "outputs": [],
   "source": [
    "# Output files for concatenated data\n",
    "output_seen_file = 'C:/files_from_ssh/thesis/first_reproductions/yelp/few_shot/concatenated_seen.jsonl'\n",
    "output_unseen_file = 'C:/files_from_ssh/thesis/first_reproductions/yelp/few_shot/concatenated_unseen.jsonl'"
   ]
  },
  {
   "cell_type": "code",
   "execution_count": 26,
   "metadata": {},
   "outputs": [],
   "source": [
    "\n",
    "# Function to count the number of lines in a file\n",
    "def count_lines(file_path):\n",
    "    with open(file_path, 'r') as f:\n",
    "        return sum(1 for _ in f)\n",
    "\n",
    "# Concatenation function\n",
    "def concatenate_files(files, output_file, file_type):\n",
    "    total_lines = 0\n",
    "    with open(output_file, 'w') as out_f:\n",
    "        for file in files:\n",
    "            if file_type in file:\n",
    "                with open(file, 'r') as in_f:\n",
    "                    lines = in_f.readlines()\n",
    "                    out_f.writelines(lines)\n",
    "                    num_lines = len(lines)\n",
    "                    print(f\"Adding {num_lines} lines from {file}\")\n",
    "                    total_lines += num_lines\n",
    "    print(f\"Total lines in {file_type} files: {total_lines}\")"
   ]
  },
  {
   "cell_type": "code",
   "execution_count": 27,
   "metadata": {},
   "outputs": [],
   "source": [
    "# Separate the \"seen\" and \"unseen\" files\n",
    "seen_files = [file for file in files if 'seen' in file]\n",
    "unseen_files = [file for file in files if 'unseen' in file]"
   ]
  },
  {
   "cell_type": "code",
   "execution_count": 28,
   "metadata": {},
   "outputs": [
    {
     "name": "stdout",
     "output_type": "stream",
     "text": [
      "Concatenating seen files...\n",
      "Adding 700 lines from C:/files_from_ssh/thesis/first_reproductions/yelp/few_shot\\dcg_sample_meta-Yelp-Few-Shot-0-lambda=0.01-2-bs=8-epoch=8_seen.jsonl\n",
      "Adding 2100 lines from C:/files_from_ssh/thesis/first_reproductions/yelp/few_shot\\dcg_sample_meta-Yelp-Few-Shot-0-lambda=0.01-2-bs=8-epoch=8_unseen.jsonl\n",
      "Adding 700 lines from C:/files_from_ssh/thesis/first_reproductions/yelp/few_shot\\dcg_sample_meta-Yelp-Few-Shot-1-lambda=0.01-2-bs=8-epoch=8_seen.jsonl\n",
      "Adding 2100 lines from C:/files_from_ssh/thesis/first_reproductions/yelp/few_shot\\dcg_sample_meta-Yelp-Few-Shot-1-lambda=0.01-2-bs=8-epoch=8_unseen.jsonl\n",
      "Adding 700 lines from C:/files_from_ssh/thesis/first_reproductions/yelp/few_shot\\dcg_sample_meta-Yelp-Few-Shot-2-lambda=0.01-2-bs=8-epoch=8_seen.jsonl\n",
      "Adding 2100 lines from C:/files_from_ssh/thesis/first_reproductions/yelp/few_shot\\dcg_sample_meta-Yelp-Few-Shot-2-lambda=0.01-2-bs=8-epoch=8_unseen.jsonl\n",
      "Adding 700 lines from C:/files_from_ssh/thesis/first_reproductions/yelp/few_shot\\dcg_sample_meta-Yelp-Few-Shot-3-lambda=0.01-2-bs=8-epoch=8_seen.jsonl\n",
      "Adding 2100 lines from C:/files_from_ssh/thesis/first_reproductions/yelp/few_shot\\dcg_sample_meta-Yelp-Few-Shot-3-lambda=0.01-2-bs=8-epoch=8_unseen.jsonl\n",
      "Adding 700 lines from C:/files_from_ssh/thesis/first_reproductions/yelp/few_shot\\dcg_sample_meta-Yelp-Few-Shot-4-lambda=0.01-2-bs=8-epoch=8_seen.jsonl\n",
      "Adding 2100 lines from C:/files_from_ssh/thesis/first_reproductions/yelp/few_shot\\dcg_sample_meta-Yelp-Few-Shot-4-lambda=0.01-2-bs=8-epoch=8_unseen.jsonl\n",
      "Adding 700 lines from C:/files_from_ssh/thesis/first_reproductions/yelp/few_shot\\dcg_sample_meta-Yelp-Few-Shot-5-lambda=0.01-2-bs=8-epoch=8_seen.jsonl\n",
      "Adding 2100 lines from C:/files_from_ssh/thesis/first_reproductions/yelp/few_shot\\dcg_sample_meta-Yelp-Few-Shot-5-lambda=0.01-2-bs=8-epoch=8_unseen.jsonl\n",
      "Adding 700 lines from C:/files_from_ssh/thesis/first_reproductions/yelp/few_shot\\dcg_sample_meta-Yelp-Few-Shot-6-lambda=0.01-2-bs=8-epoch=8_seen.jsonl\n",
      "Adding 2100 lines from C:/files_from_ssh/thesis/first_reproductions/yelp/few_shot\\dcg_sample_meta-Yelp-Few-Shot-6-lambda=0.01-2-bs=8-epoch=8_unseen.jsonl\n",
      "Adding 700 lines from C:/files_from_ssh/thesis/first_reproductions/yelp/few_shot\\dcg_sample_meta-Yelp-Few-Shot-7-lambda=0.01-2-bs=8-epoch=8_seen.jsonl\n",
      "Adding 2100 lines from C:/files_from_ssh/thesis/first_reproductions/yelp/few_shot\\dcg_sample_meta-Yelp-Few-Shot-7-lambda=0.01-2-bs=8-epoch=8_unseen.jsonl\n",
      "Total lines in seen files: 22400\n"
     ]
    }
   ],
   "source": [
    "print(\"Concatenating seen files...\")\n",
    "concatenate_files(seen_files, output_seen_file, 'seen')"
   ]
  },
  {
   "cell_type": "code",
   "execution_count": 29,
   "metadata": {},
   "outputs": [
    {
     "name": "stdout",
     "output_type": "stream",
     "text": [
      "Concatenating unseen files...\n",
      "Adding 2100 lines from C:/files_from_ssh/thesis/first_reproductions/yelp/few_shot\\dcg_sample_meta-Yelp-Few-Shot-0-lambda=0.01-2-bs=8-epoch=8_unseen.jsonl\n",
      "Adding 2100 lines from C:/files_from_ssh/thesis/first_reproductions/yelp/few_shot\\dcg_sample_meta-Yelp-Few-Shot-1-lambda=0.01-2-bs=8-epoch=8_unseen.jsonl\n",
      "Adding 2100 lines from C:/files_from_ssh/thesis/first_reproductions/yelp/few_shot\\dcg_sample_meta-Yelp-Few-Shot-2-lambda=0.01-2-bs=8-epoch=8_unseen.jsonl\n",
      "Adding 2100 lines from C:/files_from_ssh/thesis/first_reproductions/yelp/few_shot\\dcg_sample_meta-Yelp-Few-Shot-3-lambda=0.01-2-bs=8-epoch=8_unseen.jsonl\n",
      "Adding 2100 lines from C:/files_from_ssh/thesis/first_reproductions/yelp/few_shot\\dcg_sample_meta-Yelp-Few-Shot-4-lambda=0.01-2-bs=8-epoch=8_unseen.jsonl\n",
      "Adding 2100 lines from C:/files_from_ssh/thesis/first_reproductions/yelp/few_shot\\dcg_sample_meta-Yelp-Few-Shot-5-lambda=0.01-2-bs=8-epoch=8_unseen.jsonl\n",
      "Adding 2100 lines from C:/files_from_ssh/thesis/first_reproductions/yelp/few_shot\\dcg_sample_meta-Yelp-Few-Shot-6-lambda=0.01-2-bs=8-epoch=8_unseen.jsonl\n",
      "Adding 2100 lines from C:/files_from_ssh/thesis/first_reproductions/yelp/few_shot\\dcg_sample_meta-Yelp-Few-Shot-7-lambda=0.01-2-bs=8-epoch=8_unseen.jsonl\n",
      "Total lines in unseen files: 16800\n"
     ]
    }
   ],
   "source": [
    "print(\"Concatenating unseen files...\")\n",
    "concatenate_files(unseen_files, output_unseen_file, 'unseen')"
   ]
  },
  {
   "cell_type": "code",
   "execution_count": null,
   "metadata": {},
   "outputs": [],
   "source": []
  }
 ],
 "metadata": {
  "kernelspec": {
   "display_name": "cvproject",
   "language": "python",
   "name": "python3"
  },
  "language_info": {
   "codemirror_mode": {
    "name": "ipython",
    "version": 3
   },
   "file_extension": ".py",
   "mimetype": "text/x-python",
   "name": "python",
   "nbconvert_exporter": "python",
   "pygments_lexer": "ipython3",
   "version": "3.9.7"
  }
 },
 "nbformat": 4,
 "nbformat_minor": 2
}
